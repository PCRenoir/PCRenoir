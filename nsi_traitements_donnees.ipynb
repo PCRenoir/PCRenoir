{
 "cells": [
  {
   "cell_type": "markdown",
   "metadata": {},
   "source": [
    "# Traitement des données en tables : Cours / TP\t"
   ]
  },
  {
   "cell_type": "markdown",
   "metadata": {},
   "source": [
    "## I. Introduction : Le format CSV.\n",
    "\n",
    "\n",
    "Les **données** sont des ensembles de symboles (mots, nombres, images, sons, etc.) qui permettent de représenter le monde réel (objets, événements, etc.). Elles peuvent être quantitatives (âge, poids, taille, température, etc.) ou qualitatives (noms, prénom, adresse, etc.).\n",
    "\n",
    "Les données sont souvent rassemblées pour caractériser quelque chose, comme par exemple l’adresse d’une personne (le numéro de rue, le nom de la rue, le code postal, la ville et le pays par exemple). Lorsque les données sont ainsi rassemblées pour décrire quelque chose avec plusieurs informations, on parle alors de **données structurées.**\n",
    "Ces données doivent être décrites, par un **descripteur** compréhensible pour celui qui veut les interpréter. Un **descripteur** est un **mot ou un groupe de mots choisi pour caractériser une donnée** et ainsi pour faciliter les recherches dans un document. Plusieurs descripteurs peuvent être utiles pour décrire un même objet.\n",
    "\n",
    "Pour des données qui doivent pouvoir être triées, recoupées, traitées et analysées on utilise principalement des **tableaux (ou tables) pour regrouper les données avec les mêmes descripteurs.** Les données tabulées représentent une **collection de données**. Chaque ligne d'une table représente un élément de cette collection, et les colonnes sont les **attributs** des éléments. Un ensemble de tables dans lesquelles sont placées des données et des liens forment **\"une base de données (relationnelle)\"**.\n",
    "\n",
    "Les données informatiques sont de plus en plus nombreuses et de nos jours, on trouve énormément de données sur le Web. Une partie de ces données est publique, c'es ce qu'on appelle l'OpenData. Le site [https://www.data.gouv.fr/fr/](https://www.data.gouv.fr/fr/) récence un grand nombre de données publiques et ces données sont librement réutilisables. \n",
    "\n",
    "**À faire :** Explorer pendant quelques minutes le site data.gouv.fr et rechercher les données \"Edifices du Département des Alpes-Maritimes\" à l'aide du moteur de recherche proposé par le site. On peut constater que ces données sont au format CSV, qui est un format très courant pour stocker des données.\n",
    "\n",
    "Les données structurées peuvent être organisées selon différents formats, les plus utilisés sont CSV (Comma-Separated Values), JSON et XML.\n",
    "\n",
    "Un fichier ayant le format **CSV (Comma Separated Values) est un format informatique représentant des données tabulaires sous forme de valeurs séparées par des symboles de ponctuation (par défaut les vigules)**. Un fichier CSV étant un **fichier texte**, un \"simple\" éditeur de texte suffit à l'ouvrir, à le modifier ou à le créer, il n'y pas besoin de tableur bien qu'il représente des données dans un tableau (données tabulaires). Chaque ligne du texte correspond à une ligne du tableau et les virgules (ou un autre symbole, souvent le point-virgule) correspondent aux séparations entre les colonnes. Les portions de texte séparées par une virgule correspondent aux contenus des cellules du tableau.\n",
    "\n",
    "Exemple de fichier CSV : Éditer le fichier ex1.csv avec un éditeur de texte (comme notepad, brackets, TextEdit, etc.), **ne pas double-cliquer dessus !**"
   ]
  },
  {
   "cell_type": "markdown",
   "metadata": {},
   "source": [
    "Nom, Prénom, date_naissance\n",
    "<br>\n",
    "Touille, Sacha, 09/01/2000 <br>\n",
    "Tar, Guy, 12/02/2000 <br>\n",
    "Khane, Jerry, 15/03/2001 <br>\n",
    "Vador, Dark, 19/10/1977"
   ]
  },
  {
   "cell_type": "markdown",
   "metadata": {},
   "source": [
    "La première ligne contient les noms des champs : \"Nom\", \" Prénom \" et \"date_naissance\". Ces champs sont appelés des **descripteurs**. \"Touille\" ou \" Tar\" sont, par exemple, les **valeurs du descripteur** \"nom\".\n",
    "\n",
    "**ATTENTION :**\n",
    "La virgule est un standard pour les données anglo-saxonnes, mais pas pour les données aux normes françaises. En France la virgule est le séparateur des chiffres décimaux et donc il serait impossible de différencier les virgules des décimaux et les virgules de séparation des informations. C’est pourquoi on utilise souvent un autre séparateur, le point-virgule (;).\n",
    "\n",
    "**Les séparateurs ne sont pas standardisés**, ce qui pose des problèmes. Même si on peut très bien se passer de tableurs pour manipuler des fichiers CSV, les tableurs sont tout de même souvent utilisés et certains tableurs comme Excel gèrent mal les séparateur CSV autres que des virgules. Si vous ouvrez des fichiers CSV avec un tableur, il est fortement conseillé d'utiliser plutôt Calc (libreoffice) qui permet de choisir manuellement à l'ouverture le séparateur utilisé dans le fichier. **Attention aussi à bien choisir l'encodage**, on trouve des fichiers CSV encodés en UTF-8, d'autres en ISO 8859-1 (caractères latin), etc.\n",
    "\n",
    "Le format CSV ne convient que pour des données structurées \"simples\", il est facile à générer (uniquement du texte) et à manipuler avec un langage de programmation comme Python par exemple."
   ]
  },
  {
   "cell_type": "markdown",
   "metadata": {},
   "source": [
    "**Exercice 1 : Très facile (sans programmation)**\n",
    "\n",
    "Ouvrir le fichier villes_france.csv **avec un tableur** (voir remarque précédente) en faisant attention au séparateur et à l'encodage. \n",
    "\n",
    "Vous pouvez constater que les données sont bien \"rangées\" dans le tableau avec des lignes et des colonnes (c'est pour cela qu'on parle de données tabulaires ou données tabulées).\n",
    "\n",
    "1. Nommer les différents descripteurs.\n",
    "\n",
    "2. Quelle est l'altitude maximale et l'altitude minimale de Tignes ? "
   ]
  },
  {
   "cell_type": "markdown",
   "metadata": {},
   "source": [
    "## II. Le traitement des données structurées.\n",
    "\n",
    "### 1. Ouvrir et manipuler des fichiers CSV en Python.\n",
    "\n",
    "**Utilisation particulière de Pyzo :** Dans la suite du TP, nous allons devoir ouvrir et modifier des fichiers. Normalement, il suffit que le fichier soit sauvegarder dans le même répertoire que notre programme pour pouvoir l'ouvrir sans avoir besoin de préciser le chemin, mais ce n'est pas aussi simple avec Pyzo. Dans Pyzo, pour éviter de préciser à chaque ouverture de fichier le chemin de ce fichier, on doit paramètrer le \"StartDir\" dans les paramètres du Shell et placer tous les fichiers sur lesquels on veut travailler dans ce dossier. \n",
    "Pour cela, ouvrez \"configuration des shells\" en cliquant sur Python en haut de la fenêtre du shell. Le dossier de démarrage est indiqué dans : startDir. Vous pouvez le remplacer par le chemin que vous voulez. Attention pour que les modifications soient prises en compte il faut relancer le shell.\n",
    "\n",
    "Nous allons maintenant, à l'aide de Python, effectuer des traitements sur les données stockées au format CSV.\n",
    "Pour traiter des données, nous allons utiliser le module csv.\n",
    "\n",
    "**a. Une première méthode pour utiliser un fichier CSV.**\n",
    "\n",
    "Pour récupérer le contenu d'un fichier \"test.csv\" dans une liste, le code Python est :"
   ]
  },
  {
   "cell_type": "code",
   "execution_count": null,
   "metadata": {},
   "outputs": [],
   "source": [
    "import csv   # on importe le module csv\n",
    "\n",
    "# Attention, \"normalement\" test.csv doit être sauvegardé dans le répertoire courant, sinon il faut indiquer le chemin complet.\n",
    "# avec Pyzo, test.csv doit être placé dans un dossier défini par l'utilisateur dans les paramètres du Shell (voir explication précédente).\n",
    "\n",
    "# 1ère façon d'ouvrir un fichier :\n",
    "fichier = open(\"test.csv\", \"r\")  #\"r\" signifie que le fichier sera ouvert en lecture (read)\n",
    "\n",
    "# table : liste de listes, chaque liste correspond à 1 ligne du fichier csv et chaque élément à une cellule.\n",
    "table = list(csv.reader(fichier, delimiter = ','))  #par défaut le délimiteur est la virgule\n",
    "\n",
    "fichier.close()   #il faut penser à fermer le fichier qui a été ouvert !"
   ]
  },
  {
   "cell_type": "markdown",
   "metadata": {},
   "source": [
    "**Remarque :** Il existe en Python le mot-clé **with** qui permet d'ouvrir et de fermer un fichier de manière efficace. Si pour une raison ou une autre l'ouverture ou la lecture du fichier conduit à une erreur, **l'utilisation de with garantit la bonne fermeture du fichier, ce qui n'est pas le cas dans le code précédent.**"
   ]
  },
  {
   "cell_type": "code",
   "execution_count": null,
   "metadata": {},
   "outputs": [],
   "source": [
    "import csv\n",
    "\n",
    "# 2ème façon avec with (recommandée)\n",
    "with open(\"test.csv\") as fichier:  # le paramètre \"r\" pour read est ajouté par défaut\n",
    "    table = list(csv.reader(fichier, delimiter = ','))"
   ]
  },
  {
   "cell_type": "markdown",
   "metadata": {},
   "source": [
    " **À faire :** Stocker le contenu du fichier velobleu.csv dans une liste nommée table_velo."
   ]
  },
  {
   "cell_type": "markdown",
   "metadata": {},
   "source": [
    "La **fonction reader() du module csv** prend en argument un fichier ouvert (dans notre cas le fichier est ouvert dans \"fichier\") et renvoie une valeur particulière représentant le fichier CSV. Cette valeur peut alors être convertie en liste Python avec la fonction Python list().\n",
    "\n",
    "La variable obtenue (table dans notre cas) est une liste de listes dont les éléments sont des chaînes de caractères qui correspondent au contenu de chaque cellule, c'est à dire ce qui est entre les séparateurs du fichier csv. Chaque ligne du fichier est représentée par une liste.\n",
    "\n",
    "\n",
    "**ATTENTION : Les méthodes qui lisent un fichier renvoient systématiquement des chaînes de caractères.** Il faudra utiliser les fonctions de conversions de types (: )int(), float() et str()) lorsqu'on lit (ou écrit) des nombres dans un fichier puisque les nombres dans un fichier sont considérés comme des chaînes de caractères. Il faudra donc penser à les convertir (en entier ou en float) si on veut effectuer des opérations numériques avec.\n",
    "\n",
    "\n",
    "**Exercice 2 : Assez facile**\n",
    "\n",
    "1. En utilisant la méthode précédente, ouvrir le fichier ex_prenoms.csv et placer les données dans une liste nommée table_prenoms.\n",
    "\n",
    "2. Créer une fonction **compildonnees(liste)** qui prend en paramètre une liste de listes de chaines de caractères et renvoie une seule liste de chaines de caractères. Elle permet d'obtenir tous les prénoms dans une seule liste (et elle retire 'Prénom' de la liste). \n",
    "\n",
    "3. Créer une fonction **test_prenom(liste, ch)** qui prend en paramètres liste, une liste de listes et ch, une chaîne de caractères et qui teste si ch est présent dans liste.\n"
   ]
  },
  {
   "cell_type": "markdown",
   "metadata": {},
   "source": [
    "**b. Une deuxième méthode pour utiliser un fichier CSV.**\n",
    "\n",
    "On va utiliser \"la classe\" **DictReader()** du module csv qui permet d'obtenir des dictionnaires (à partir de Python 3.8, sinon ce sont des \"dictionnaires ordonnés\", c'est à dire des dictionnaires qui stockent un ordre particulier pour leur clé).\n",
    "\n",
    "La ligne d'en-tête du fichier CSV est utilisée pour créer les clés de chaque dictionnaire.\n",
    "\n",
    "On peut ainsi, plus facilement qu'avec la méthode précédente, retrouver à quoi correspond une donnée grâce à son descripteur qui est une clé du dictionnaire. Par contre le dictionnaire obtenu n'est pas de type 'dict' mais du type DictReader et les méthodes vues dans le chapitre précédent ne fonctionnent pas. Afin de retrouver des objets qu'on sait déjà manipuler, nous allons, en plus, utiliser une liste. Chaque élément de cette liste sera alors un dictionnaire qui correspondra à une ligne du fichier CSV.\n",
    "\n",
    "Exemple :"
   ]
  },
  {
   "cell_type": "code",
   "execution_count": null,
   "metadata": {},
   "outputs": [],
   "source": [
    "import csv\n",
    "\n",
    "with open(\"test.csv\") as fichier:\n",
    "    liste_dico = list(csv.DictReader(fichier, delimiter = ','))  "
   ]
  },
  {
   "cell_type": "markdown",
   "metadata": {},
   "source": [
    "En utilisant le fichier ex1.csv, on obtient : \n",
    "\n",
    "`liste_dico = [{'Nom': 'Touille', ' Prénom': ' Sacha', ' date_naissance': ' 09/01/2000'}, {'Nom': 'Tar', ' Prénom': ' Guy', ' date_naissance': ' 12/02/2000'}, {'Nom': 'Khane', ' Prénom': ' Jerry', ' date_naissance': ' 15/03/2001'}, {'Nom': 'Vador', ' Prénom': ' Dark', ' date_naissance': ' 19/10/1977'}]`"
   ]
  },
  {
   "cell_type": "markdown",
   "metadata": {},
   "source": [
    "**Exercice 3 :**\n",
    "\n",
    "1. En utilisant la méthode précédente, ouvrir le fichier notes.csv puis créer la fonction **id_note()** qui prend 2 paramètres : un identifiant et une liste (de dictionnaires) et qui renvoie la note correspondant à cet identifiant. Par exemple id_note(liste_notes, '12328') renvoie 14.\n",
    "\n",
    "2. Ouvrir le fichier noms_notes.csv puis créer la fonction **nom_id_notes()** qui prend en paramètres un nom et 2 listes (de dictionnaires) et qui renvoie un dictionnaire formé de l'identifiant (clé) et du couple (nom, note) correspondant à ce nom. S'il y a plusieurs noms identiques, la fonction doit alors renvoyer une liste de dictionnaires formés de l'identifiant (clé) et du couple (nom, note). \n",
    "\n",
    "Par exemple : `nom_id_notes(liste_noms, liste_notes, 'Colin')` renvoie la liste : `[{'12307': ('Colin', 19)}, {'12308': 'Colin': 13}]`\n",
    "\n",
    "Si le nom n'est pas dans la liste, la fonction ne renvoie rien. Vous pourrez commencer à chercher à écrire la fonction sans s'occuper du fait qu'il pourrait y avoir plusieurs personnes ayant le même nom. \n",
    "\n",
    "**Exercice 4 :** \n",
    "\n",
    "1. En utilisant le fichier velobleu.csv, créer la fonction **recherche_gps_voie()** qui prend 2 paramètres : une chaîne de caractères et une liste (de dictionnaires ordonnés) et qui renvoie les coordonnées GPS des vélos bleus sous la forme d'un tuple (formé de 2 nombres décimaux) quand on passe le nom d'une voie en paramètre.\n",
    "\n",
    "Par exemple : `recherche_gps_voie('RUE DOCTEUR FIGHIERA',table_velos)` renvoie `(43.7102717, 7.29311454)`.\n",
    "\n",
    "Attention, les valeurs retournées avec le format CSV sont de type str mais dans l'exercice, vous retournerez des flottants.\n",
    "\n",
    "2. Quelles sont les coordonnées de l'arrêt 'PLACE JEAN MEDECIN' ?\n",
    "Vérifier à l'aide de https://www.google.fr/maps/ que les valeurs trouvées correspondent bien à un lieu où des vélos bleus sont garés.\n",
    "\n",
    "3. Modifier la fonction précédente pour qu'elle renvoie la liste de toutes les coordonnées gps qui correspondent à un nom de rue.\n",
    "\n",
    "Par exemple : `recherche_gps_voie('AVENUE DE NICE',table_velos)` renvoie `[(43.65798709, 7.15999403), (43.65617872, 7.15515027), (43.66050775, 7.17559124)]`.\n",
    "\n",
    "3. Créer la fonction **recher_nbvelos()** qui prend en paramètres une chaîne de caractères (NOM_VOIE) et une liste (table_velos) et qui renvoie le nombre total de vélos présents dans cette rue.\n"
   ]
  },
  {
   "cell_type": "markdown",
   "metadata": {},
   "source": [
    "**c. Une dernière méthode pour utiliser un fichier CSV (ou autre).**\n",
    "\n",
    "On peut ouvrir le fichier CSV et récupérer chaque ligne du fichier dans une liste formée d'éléments de type srt qui contient chacune des lignes du fichier CSV sans même utiliser le module csv. Pour cela, on utilise des fonctions natives Python qui permettent de manipuler les fichiers en lecture et qui peuvent être utilisées avec n'importe quel fichier texte.\n",
    "\n",
    "On peut utiliser **2 méthodes :**\n",
    "\n",
    "- **La méthode .readline()** (sans s à la fin) lit une ligne d'un fichier et la renvoie sous forme de chaîne de caractères. À chaque nouvel appel de .readline(), la ligne suivante est renvoyée. Associée à une boucle while, cette méthode permet de lire un fichier ligne par ligne.\n",
    "\n",
    "- **La méthode .readlines()** lit toutes les lignes du fichier et elle renvoie une liste contenant toutes les lignes du fichier.\n",
    "\n",
    "Exemples : "
   ]
  },
  {
   "cell_type": "code",
   "execution_count": null,
   "metadata": {},
   "outputs": [],
   "source": [
    "with open(\"test.csv\") as fichier :\n",
    "    champs = fichier.readline()  # méthode qui permet la lecture de la 1ère ligne donc des champs d'un CSV"
   ]
  },
  {
   "cell_type": "code",
   "execution_count": null,
   "metadata": {},
   "outputs": [],
   "source": [
    "# on peut afficher toutes les lignes du fichier avec cette méthode :\n",
    "with open(\"test.csv\") as fichier :\n",
    "    ligne = fichier.readline()  \n",
    "    while ligne != \"\":\n",
    "        print(ligne)\n",
    "        ligne = fichier.readline()"
   ]
  },
  {
   "cell_type": "code",
   "execution_count": null,
   "metadata": {},
   "outputs": [],
   "source": [
    "with open(\"test.csv\") as fichier :\n",
    "    lignes = fichier.readlines() # méthode qui permet la lecture de toutes les lignes : type liste \n",
    "                                 # (chaque elt = 1 str qui correspond à une ligne du fichier)"
   ]
  },
  {
   "cell_type": "markdown",
   "metadata": {},
   "source": [
    "**Remarque :**  Il existe aussi la méthode .read() qui lit tout le contenu d'un fichier et renvoie une chaîne de caractères unique, mais généralement la longueur de cette chaîne fait qu'il est peu pratique de la manipuler.  "
   ]
  },
  {
   "cell_type": "markdown",
   "metadata": {},
   "source": [
    "**Exercice 5 :**\n",
    "\n",
    "1. Ouvrir le fichier \"velobleu.csv\" avec la méthode décrite ci-dessus.\n",
    "\n",
    "2. Vérifier le type de champs et de ligne.\n",
    "\n",
    "3. Écrire la fonction affichage() qui prend en paramètres un entier n et une liste et qui affiche (si cela est possible) la ligne qui a pour numéro n. Si la ligne n'existe pas, il faut afficher : 'Ne correspond à aucune entrée.'\n",
    "\n",
    "Par exemple : \n",
    "\n",
    "`affichage(1,lignes)` affiche `15;0;Le long du parking-relais Pont Michel, à proximité de la station de tramway;ROUTE DE TURIN;Trottoir;43.7227177;7.29039162`\n",
    "\n",
    "`affichage(2003,lignes)` affiche `Ne correspond à aucune entrée.`"
   ]
  },
  {
   "cell_type": "markdown",
   "metadata": {},
   "source": [
    "### 2. Écrire un fichier au format CSV.\n",
    "\n",
    "Le module csv permet aussi de créer un fichier CSV directement en Python.\n",
    "\n",
    "Exemple :"
   ]
  },
  {
   "cell_type": "code",
   "execution_count": null,
   "metadata": {},
   "outputs": [],
   "source": [
    "import csv\n",
    "\n",
    "liste = [{'prénom': 'Bob'}, {'prénom': 'Alice'}]\n",
    "\n",
    "with open('new.csv', 'w') as sortie: #fichier nommé new.csv ouvert en écriture (écrasé s'il existe et créé sinon)\n",
    "    w = csv.DictWriter(sortie, ['prénom'])\n",
    "    w.writeheader()\n",
    "    w.writerows(liste) "
   ]
  },
  {
   "cell_type": "markdown",
   "metadata": {},
   "source": [
    "On commence par ouvrir un **fichier en écriture (avec 'w')**. \n",
    "\n",
    "**Attention : Si le fichier existe déjà il est écrasé, sinon il est créé.**\n",
    "\n",
    "La fonction DictWriter renvoie un objet, nommé ici w, permettant d'écrire des lignes dans un fichier. \n",
    "\n",
    "w.writeheader() doit être utilisé en premier pour écrire la ligne d'entêtes.\n",
    "\n",
    "w.writerows(table) prend la liste en argument et écrit les lignes correspondantes dans le fichier ouvert."
   ]
  },
  {
   "cell_type": "markdown",
   "metadata": {},
   "source": [
    "**Exercice 6 :**\n",
    "\n",
    "1. Créer une liste de dictionnaires dont les clés sont 'numero' et 'lettre' et les valeurs associées à ces clés sont les nombres entiers de 0 à 25 et les lettres de l'alphabet en majuscule `[{'numero': 0, 'lettre': 'A'}, {'numero': 1, 'lettre': 'B'}, ... ]`.\n",
    "\n",
    "2. À l'aide de cette liste, créer un fichier nommé numeros.csv dont les en-têtes sont \"Numéro\" et \"Lettre\" et les lignes suivantes sont formées successivment de chaque nombre de 0 à 25, suivi de la lettre de l'alphabet qui lui correspond.\n",
    "\n",
    "**Remarques :** \n",
    "\n",
    "Le fichier est sauvegardé sur votre disque dur dans le dossier paramétré dans le Shell.\n",
    "\n",
    "Pour cela, ouvrez \"configuration des shells\" en cliquant sur Python en haut de la fenêtre du shell.\n",
    "\n",
    "Le dossier de démarrage est indiqué dans : startDir\n",
    "\n",
    "Vous pouvez le remplacer par ce que vous voulez. Si vous le modifiez et si vous mettez un fichier (csv ou autre) dans ce dossier alors ce n'est plus la peine d'indiquer tout le chemin pour l'ouvrir avec Python, il suffit juste d'écrire le nom du fichier, c'est beaucoup plus pratique ! Attention pour que les modifications soient prises en compte il faut relancer le shell.\n"
   ]
  },
  {
   "cell_type": "markdown",
   "metadata": {},
   "source": [
    "**Exercice complémentaire : Le pendu.**\n",
    "\n",
    "On n'utilisera que des caractères alphabétiques (minuscules ou majuscules) non accentués.\n",
    "\n",
    "1. Ouvrir le fichier scientifiques.csv et stocker la table dans une liste nommée table_scientifiques. On doit obtenir la liste : `[['Noms'], ['Einstein'], ['Volta'], ['Ampere'], ['Lavoisier'], ['Aristote'], ['Pythagore'], ['Thales'], ['Pascal'], ['Huygens'], ['Mendeleiev'], ['Turing'], ['BernersLee'], ['Galilee'], ['Ohm'], ['Hertz'], ['Newtown'], ['Watt'], ['Kepler'], ['Curie'], ['Copernic'], ['Laplace'], ['Bernoulli'], ['Dijkstra']]`.\n",
    "\n",
    "2. Écrire une fonction **liste_mots(L)** qui prend une liste en paramètre (même format que table_scientifiques) et qui retourne une liste dont les éléments sont les chaines de caractères qui étaient dans la variable table_scientifiques. liste_mots(table_scientifiques) renvoie `['Einstein', 'Volta', 'Ampere', 'Lavoisier', 'Aristote', 'Pythagore', 'Thales', 'Pascal', 'Huygens', 'Mendeleiev', 'Turing', 'BernersLee', 'Galilee', 'Ohm', 'Hertz', 'Newtown', 'Watt', 'Kepler', 'Curie', 'Copernic', 'Laplace', 'Bernoulli', 'Dijkstra']`.\n",
    "\n",
    "3. Écrire une fonction **metenmajuscule(L)** qui prend en paramètre une liste de str et qui renvoie la liste avec les mots en majuscules. La liste précédente doit donc devenir `['EINSTEIN', 'VOLTA', 'AMPERE', 'LAVOISIER', 'ARISTOTE', 'PYTHAGORE', 'THALES', 'PASCAL', 'HUYGENS', 'MENDELEIEV', 'TURING', 'BERNERSLEE', 'GALILEE', 'OHM', 'HERTZ', 'NEWTOWN', 'WATT', 'KEPLER', 'CURIE', 'COPERNIC', 'LAPLACE', 'BERNOULLI', 'DIJKSTRA']`.\n",
    "\n",
    "4. Maintenant qu'on dispose d'une liste de mots, il ne reste plus qu'à (re)faire le jeu du pendu. À partir de cette étape, vous pouvez retrouver l'énoncé en ligne sur Pronote (TP notés du jeudi 18 février) ainsi qu'un corrigé.\n",
    "\n",
    "5. Version améliorée...\n",
    "\n",
    "Vous avez à disposition un fichier nommé liste.de.mots.francais.csv qui contient 336 531 mots de la langue française, ce qui permet de faire un vrai pendu. À vous de le modifier (en utilisant Python) et de créer un nouveau fichier csv en supprimant tous les mots de une ou 2 lettres (c'est inutile pour jouer au pendu) ainsi que les '-' utilisés dans certains mots (sinon il faudra compter le caractère '-' comme un caractère possible). Une fois ce travail fait, il vous suffit de reprendre le code précédent en ouvrant ce fichier csv au lieu du fichier scientifiques.csv. \n"
   ]
  }
 ],
 "metadata": {
  "interpreter": {
   "hash": "aee8b7b246df8f9039afb4144a1f6fd8d2ca17a180786b69acc140d282b71a49"
  },
  "kernelspec": {
   "display_name": "Javascript (Node.js)",
   "language": "python",
   "name": "python3"
  },
  "language_info": {
   "codemirror_mode": {
    "name": "ipython",
    "version": 3
   },
   "file_extension": ".py",
   "mimetype": "text/x-python",
   "name": "python",
   "nbconvert_exporter": "python",
   "pygments_lexer": "ipython3",
   "version": "3.10.0"
  }
 },
 "nbformat": 4,
 "nbformat_minor": 4
}
